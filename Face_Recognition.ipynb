{
 "cells": [
  {
   "cell_type": "markdown",
   "metadata": {},
   "source": [
    "# Face Recognition Model"
   ]
  },
  {
   "cell_type": "code",
   "execution_count": null,
   "metadata": {
    "colab": {
     "base_uri": "https://localhost:8080/",
     "height": 35
    },
    "colab_type": "code",
    "id": "XfouJvFV8Vdv",
    "outputId": "2baaec98-c3d8-4d6a-f6ba-922416f056ff"
   },
   "outputs": [],
   "source": [
    "#Load and store the 4 values of train and validation data\n",
    "import numpy as np\n",
    "#import the data from the npz file and load it to trainng and validation \n",
    "dataset = np.load('/content/drive/My Drive/Project/facerecognition.npz')\n",
    "print(dataset.files)\n",
    "x_train = dataset['arr_0']\n",
    "y_train = dataset['arr_1']\n",
    "x_val = dataset['arr_2']\n",
    "y_val = dataset['arr_3']"
   ]
  },
  {
   "cell_type": "code",
   "execution_count": null,
   "metadata": {
    "colab": {
     "base_uri": "https://localhost:8080/",
     "height": 381
    },
    "colab_type": "code",
    "id": "itZfNfj88YUY",
    "outputId": "d38c39e0-a9d7-4e5c-eefb-53a4f58b321d"
   },
   "outputs": [],
   "source": [
    "#convert string labels to numbers\n",
    "from sklearn.preprocessing import LabelEncoder\n",
    "from keras.utils.np_utils import to_categorical\n",
    "#convert the string labels to numbers\n",
    "label_encoder= LabelEncoder()\n",
    "y_train = LabelEncoder().fit_transform(y_train)\n",
    "y_train = to_categorical(y_train,4)\n",
    "y_val = label_encoder.fit_transform(y_val)\n",
    "y_val = to_categorical(y_val,4)"
   ]
  },
  {
   "cell_type": "code",
   "execution_count": null,
   "metadata": {
    "colab": {
     "base_uri": "https://localhost:8080/",
     "height": 54
    },
    "colab_type": "code",
    "id": "vsNUZRGV8Yeo",
    "outputId": "46c2244c-407f-45f6-b612-6bfd81bbe97c"
   },
   "outputs": [],
   "source": [
    "from keras.applications.vgg16 import VGG16,preprocess_input\n",
    "\n",
    "#import VGG16 model which is the base model\n",
    "vgg16 = VGG16(weights = 'imagenet', \n",
    "              input_shape = (224, 224, 3),\n",
    "              include_top=False,\n",
    "              pooling = None                  \n",
    ")\n",
    "\n",
    "for layer in vgg16.layers:\n",
    "    layer.trainable = False "
   ]
  },
  {
   "cell_type": "code",
   "execution_count": null,
   "metadata": {
    "colab": {},
    "colab_type": "code",
    "id": "-ggd5foE8Ybr"
   },
   "outputs": [],
   "source": [
    "from keras.preprocessing.image import ImageDataGenerator\n",
    "\n",
    "#produce artificial data to expant x_train\n",
    "datasetgen = ImageDataGenerator(\n",
    "        featurewise_center=False,  \n",
    "        samplewise_center=False, \n",
    "        featurewise_std_normalization=False,  \n",
    "        samplewise_std_normalization=False,\n",
    "        zca_epsilon=1e-06,  \n",
    "        zca_whitening=False,  \n",
    "        rotation_range=5,\n",
    "        width_shift_range=0.2,  \n",
    "        height_shift_range=0.2, \n",
    "        shear_range=0.0,  \n",
    "        zoom_range = 0.1, \n",
    "        brightness_range=None,\n",
    "        horizontal_flip=True,  \n",
    "        vertical_flip=False) \n",
    "\n",
    "datasetgen.fit(x_train)"
   ]
  },
  {
   "cell_type": "code",
   "execution_count": null,
   "metadata": {
    "colab": {
     "base_uri": "https://localhost:8080/",
     "height": 308
    },
    "colab_type": "code",
    "id": "S0tUb5ua8Yha",
    "outputId": "81940764-33a4-4403-9f64-835219377cd3"
   },
   "outputs": [],
   "source": [
    "from keras.models import Sequential,Input,Model\n",
    "from keras.layers import Dense, Dropout, GlobalAveragePooling2D\n",
    "from keras.optimizers import SGD\n",
    "\n",
    "#create the model and layers\n",
    "model = Sequential()\n",
    "model.add(vgg16)\n",
    "model.add(GlobalAveragePooling2D())\n",
    "model.add(Dropout(0.2))\n",
    "model.add(Dense(4,activation='softmax'))\n",
    "model.summary()\n",
    "\n",
    "#compile the model\n",
    "trained = model.compile(\n",
    "    loss='categorical_crossentropy',\n",
    "    optimizer= SGD(learning_rate = 1e-4, momentum=0.9, nesterov = False),\n",
    "    metrics=['accuracy']\n",
    ")\n"
   ]
  },
  {
   "cell_type": "code",
   "execution_count": null,
   "metadata": {},
   "outputs": [],
   "source": [
    "#Draw the figure for the model\n",
    "from keras.utils import plot_model\n",
    "plot_model(model, to_file='model_plot.png', show_shapes=True, show_layer_names=True)"
   ]
  },
  {
   "cell_type": "code",
   "execution_count": null,
   "metadata": {
    "colab": {
     "base_uri": "https://localhost:8080/",
     "height": 1000
    },
    "colab_type": "code",
    "id": "13bjjzy48Ymo",
    "outputId": "9a1af05c-fc1c-4dda-8f51-ec8b58285406"
   },
   "outputs": [],
   "source": [
    "#fit the model with the augmented data and 200 epochs\n",
    "trained = model.fit_generator(datasetgen.flow(x_train, y_train, batch_size = 16),\n",
    "    validation_data  = (x_val,y_val), validation_steps = 100, steps_per_epoch = len(x_train) // 16,\n",
    "    epochs = 200)"
   ]
  },
  {
   "cell_type": "code",
   "execution_count": null,
   "metadata": {
    "colab": {},
    "colab_type": "code",
    "id": "AxbsOTTl7_17"
   },
   "outputs": [],
   "source": [
    "#save model as h5 to load in the application\n",
    "model.save(\"rec_model.h5\")"
   ]
  },
  {
   "cell_type": "code",
   "execution_count": null,
   "metadata": {
    "colab": {
     "base_uri": "https://localhost:8080/",
     "height": 244
    },
    "colab_type": "code",
    "id": "oW2wqXdA8AS4",
    "outputId": "7d41b302-2d34-4195-f852-eb7918431d2e"
   },
   "outputs": [],
   "source": [
    "#draw graphs for illustrating accuracy and loss\n",
    "import matplotlib.pyplot as plt\n",
    "\n",
    "plt.plot(trained.history['accuracy'])\n",
    "plt.plot(trained.history['val_accuracy'])\n",
    "plt.title('model accuracy')\n",
    "plt.ylabel('accuracy')\n",
    "plt.xlabel('epoch')\n",
    "plt.show()\n",
    "\n",
    "plt.plot(trained.history['loss'])\n",
    "plt.plot(trained.history['val_loss'])\n",
    "plt.title('model loss')\n",
    "plt.ylabel('loss')\n",
    "plt.xlabel('epoch')\n",
    "plt.show()"
   ]
  }
 ],
 "metadata": {
  "accelerator": "GPU",
  "colab": {
   "collapsed_sections": [],
   "name": "Face Recognition",
   "provenance": []
  },
  "kernelspec": {
   "display_name": "Python 3",
   "language": "python",
   "name": "python3"
  },
  "language_info": {
   "codemirror_mode": {
    "name": "ipython",
    "version": 3
   },
   "file_extension": ".py",
   "mimetype": "text/x-python",
   "name": "python",
   "nbconvert_exporter": "python",
   "pygments_lexer": "ipython3",
   "version": "3.7.7"
  }
 },
 "nbformat": 4,
 "nbformat_minor": 1
}
